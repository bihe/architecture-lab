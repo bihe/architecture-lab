{
 "cells": [
  {
   "cell_type": "code",
   "execution_count": 1,
   "id": "86882f3d-6691-4241-bc16-abad9f3a6300",
   "metadata": {},
   "outputs": [],
   "source": [
    "# imports\n",
    "from confluent_kafka import Producer, Consumer\n",
    "import json"
   ]
  },
  {
   "cell_type": "code",
   "execution_count": 2,
   "id": "a63a55fd-169a-4e3a-8306-2d6baf36e1e7",
   "metadata": {},
   "outputs": [],
   "source": [
    "# Kafka defintions\n",
    "KAFKA_BROKER = \"kafka:9092\"\n",
    "TOPIC = \"sample-weather-data\""
   ]
  },
  {
   "cell_type": "markdown",
   "id": "b43b5dfe-76d5-4eb5-898e-41739b8e433c",
   "metadata": {},
   "source": [
    "## Weather producer -> send to Kafka Topic\n",
    "This notebook pushes data from an exmple file (sample_weather_data.json) to a Kafka topic for further processing.\n"
   ]
  },
  {
   "cell_type": "code",
   "execution_count": 3,
   "id": "aeb0f152-c12b-44ad-a5ce-168b44db94bb",
   "metadata": {},
   "outputs": [
    {
     "data": {
      "text/plain": [
       "[{'sensor_id': 'WS_001',\n",
       "  'temperature': 15.2,\n",
       "  'humidity': 65,\n",
       "  'wind_speed': 12.4,\n",
       "  'timestamp': '2025-02-14T10:00:00Z'},\n",
       " {'sensor_id': 'WS_002',\n",
       "  'temperature': 18.5,\n",
       "  'humidity': 55,\n",
       "  'wind_speed': 10.1,\n",
       "  'timestamp': '2025-02-14T10:01:00Z'},\n",
       " {'sensor_id': 'WS_003',\n",
       "  'temperature': 21.0,\n",
       "  'humidity': 50,\n",
       "  'wind_speed': 8.7,\n",
       "  'timestamp': '2025-02-14T10:02:00Z'}]"
      ]
     },
     "execution_count": 3,
     "metadata": {},
     "output_type": "execute_result"
    }
   ],
   "source": [
    "import time\n",
    "\n",
    "# Delivery callback for confirmation\n",
    "def delivery_report(err, msg):\n",
    "    if err is not None:\n",
    "        print(f\"Delivery failed for record {msg.value()}: {err}\")\n",
    "    else:\n",
    "        print(f\"Record delivered to {msg.topic()} [{msg.partition()}] at offset {msg.offset()}\")\n",
    "\n",
    "# Create Confluent Kafka producer\n",
    "producer = Producer({'bootstrap.servers': KAFKA_BROKER})\n",
    "\n",
    "# Load sample data\n",
    "with open(\"./data/sample_weather_data.json\", \"r\") as file:\n",
    "    weather_data = json.load(file)\n",
    "\n",
    "weather_data"
   ]
  },
  {
   "cell_type": "code",
   "execution_count": 4,
   "id": "f71ef5e9-03a5-4a87-b3a7-fb44339a3132",
   "metadata": {},
   "outputs": [
    {
     "name": "stdout",
     "output_type": "stream",
     "text": [
      "Record delivered to sample-weather-data [0] at offset 0\n",
      "Record delivered to sample-weather-data [0] at offset 1\n",
      "Record delivered to sample-weather-data [0] at offset 2\n"
     ]
    },
    {
     "data": {
      "text/plain": [
       "0"
      ]
     },
     "execution_count": 4,
     "metadata": {},
     "output_type": "execute_result"
    }
   ],
   "source": [
    "# Send messages to Kafka\n",
    "for record in weather_data:\n",
    "    producer.produce(\n",
    "        TOPIC,\n",
    "        value=json.dumps(record).encode('utf-8'),\n",
    "        callback=delivery_report\n",
    "    )\n",
    "    producer.poll(0)  # Serve delivery callbacks\n",
    "    time.sleep(1)  # Simulate real-time streaming\n",
    "\n",
    "producer.flush()"
   ]
  },
  {
   "cell_type": "markdown",
   "id": "5534595c-64cd-4788-bf2d-2288a337cb38",
   "metadata": {},
   "source": [
    "## Weather consumer --> read from Kafka\n",
    "Read the data from Kafka and print the results."
   ]
  },
  {
   "cell_type": "code",
   "execution_count": null,
   "id": "fb555319-f248-4ad9-8a4a-899aff6b97ae",
   "metadata": {},
   "outputs": [
    {
     "name": "stdout",
     "output_type": "stream",
     "text": [
      "Waiting for messages...\n",
      "Received: {'sensor_id': 'WS_001', 'temperature': 15.2, 'humidity': 65, 'wind_speed': 12.4, 'timestamp': '2025-02-14T10:00:00Z'}\n",
      "Received: {'sensor_id': 'WS_002', 'temperature': 18.5, 'humidity': 55, 'wind_speed': 10.1, 'timestamp': '2025-02-14T10:01:00Z'}\n",
      "Received: {'sensor_id': 'WS_003', 'temperature': 21.0, 'humidity': 50, 'wind_speed': 8.7, 'timestamp': '2025-02-14T10:02:00Z'}\n"
     ]
    }
   ],
   "source": [
    "# Create Kafka consumer configuration\n",
    "conf = {\n",
    "    'bootstrap.servers': KAFKA_BROKER,\n",
    "    'group.id': 'weather-consumer-group',\n",
    "    'auto.offset.reset': 'earliest'\n",
    "}\n",
    "\n",
    "# Create Consumer instance\n",
    "consumer = Consumer(conf)\n",
    "\n",
    "# Subscribe to topic\n",
    "consumer.subscribe([TOPIC])\n",
    "\n",
    "print(\"Waiting for messages...\")\n",
    "\n",
    "try:\n",
    "    while True:\n",
    "        msg = consumer.poll(1.0)  # timeout in seconds\n",
    "        if msg is None:\n",
    "            continue\n",
    "        if msg.error():\n",
    "            print(f\"Consumer error: {msg.error()}\")\n",
    "            continue\n",
    "\n",
    "        weather_data = json.loads(msg.value().decode('utf-8'))\n",
    "        print(f\"Received: {weather_data}\")\n",
    "\n",
    "except KeyboardInterrupt:\n",
    "    print(\"Stopping consumer...\")\n",
    "\n",
    "finally:\n",
    "    consumer.close()"
   ]
  },
  {
   "cell_type": "code",
   "execution_count": null,
   "id": "2963e247-4663-4078-972f-b221141e8302",
   "metadata": {},
   "outputs": [],
   "source": []
  }
 ],
 "metadata": {
  "kernelspec": {
   "display_name": "Python 3 (ipykernel)",
   "language": "python",
   "name": "python3"
  },
  "language_info": {
   "codemirror_mode": {
    "name": "ipython",
    "version": 3
   },
   "file_extension": ".py",
   "mimetype": "text/x-python",
   "name": "python",
   "nbconvert_exporter": "python",
   "pygments_lexer": "ipython3",
   "version": "3.12.10"
  }
 },
 "nbformat": 4,
 "nbformat_minor": 5
}
