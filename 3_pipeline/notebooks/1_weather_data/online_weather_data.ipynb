{
 "cells": [
  {
   "cell_type": "markdown",
   "id": "47c49645-9662-47b6-bcd9-5cad20e7e8eb",
   "metadata": {},
   "source": [
    "## Fetch Weather Data Online\n",
    "Use a Web-API to fetch weather-data and send it to the Kafka topic.\n",
    "\n",
    "**NOTE**: The API has rate-limits, so not overdo it! `Only for non-commercial use and less than 10.000 daily API calls. See Terms for more details.`"
   ]
  },
  {
   "cell_type": "code",
   "execution_count": 1,
   "id": "33e6d2f1-c10b-4c67-94bd-4517f4756db3",
   "metadata": {},
   "outputs": [],
   "source": [
    "# Kafka defintions\n",
    "KAFKA_BROKER = \"kafka:9092\"\n",
    "TOPIC = \"weather-data\""
   ]
  },
  {
   "cell_type": "code",
   "execution_count": 2,
   "id": "e8267348-7b5b-4b1a-aedd-585da9fd2058",
   "metadata": {},
   "outputs": [],
   "source": [
    "from confluent_kafka import Producer\n",
    "import json\n",
    "import time\n",
    "import requests\n",
    "\n",
    "# Initialize Kafka producer\n",
    "producer = Producer({'bootstrap.servers': KAFKA_BROKER})\n",
    "\n",
    "# Callback to confirm delivery\n",
    "def delivery_report(err, msg):\n",
    "    if err is not None:\n",
    "        print(f\"Delivery failed: {err}\")\n",
    "    else:\n",
    "        print(f\"Sent: {msg.value().decode('utf-8')}\")\n",
    "\n",
    "# Function to fetch weather data\n",
    "def fetch_weather_data():\n",
    "    url = 'https://api.open-meteo.com/v1/forecast'\n",
    "    params = {\n",
    "        'latitude': 47.72,\n",
    "        'longitude': 13.09,\n",
    "        'hourly': 'temperature_2m,relative_humidity_2m,wind_speed_10m',\n",
    "        'timezone': 'UTC'\n",
    "    }\n",
    "    response = requests.get(url, params=params)\n",
    "    return response.json()\n",
    "\n",
    "# Fetch and send data to Kafka\n",
    "weather_data = fetch_weather_data()"
   ]
  },
  {
   "cell_type": "markdown",
   "id": "bc7f9ca5-6c00-48cd-9e02-40ea0e5cfc19",
   "metadata": {},
   "source": [
    "## Publish to the Kafka topic 'weather-forecast'"
   ]
  },
  {
   "cell_type": "code",
   "execution_count": null,
   "id": "e1dd14b9-3eca-4e02-9504-adee9ea8ce24",
   "metadata": {},
   "outputs": [],
   "source": [
    "hourly_data = weather_data['hourly']\n",
    "for i, timestamp in enumerate(hourly_data['time']):\n",
    "    record = {\n",
    "        'timestamp': timestamp,\n",
    "        'temperature': hourly_data['temperature_2m'][i],\n",
    "        'humidity': hourly_data['relative_humidity_2m'][i],\n",
    "        'wind_speed': hourly_data['wind_speed_10m'][i]\n",
    "    }\n",
    "    payload = json.dumps(record).encode('utf-8')\n",
    "    producer.produce(TOPIC, value=payload, callback=delivery_report)\n",
    "    producer.poll(0)  # Trigger delivery report callbacks\n",
    "    time.sleep(1)  # Simulate real-time data streaming\n",
    "\n",
    "producer.flush()"
   ]
  },
  {
   "cell_type": "markdown",
   "id": "d9732057-d80d-48cd-970d-1852c7951ffe",
   "metadata": {},
   "source": [
    "## Now consume the created values from the Kafka topic"
   ]
  },
  {
   "cell_type": "code",
   "execution_count": null,
   "id": "45b4a255-e102-43f7-8937-d4ead105478d",
   "metadata": {},
   "outputs": [],
   "source": [
    "from confluent_kafka import Consumer, KafkaException\n",
    "import json\n",
    "\n",
    "# Initialize Kafka consumer\n",
    "consumer_conf = {\n",
    "    'bootstrap.servers': KAFKA_BROKER,\n",
    "    'group.id': 'weather-forecast-group',\n",
    "    'auto.offset.reset': 'earliest'\n",
    "}\n",
    "\n",
    "consumer = Consumer(consumer_conf)\n",
    "\n",
    "# Subscribe to the topic\n",
    "consumer.subscribe([TOPIC])\n",
    "\n",
    "print(\"Listening to topic:\", TOPIC)\n",
    "\n",
    "try:\n",
    "    while True:\n",
    "        msg = consumer.poll(timeout=1.0)\n",
    "        if msg is None:\n",
    "            continue\n",
    "        if msg.error():\n",
    "            raise KafkaException(msg.error())\n",
    "        else:\n",
    "            value = msg.value().decode('utf-8')\n",
    "            data = json.loads(value)\n",
    "            print(f\"Received: {json.dumps(data, indent=2)}\")\n",
    "\n",
    "except KeyboardInterrupt:\n",
    "    print(\"Interrupted by user\")\n",
    "\n",
    "finally:\n",
    "    consumer.close()"
   ]
  },
  {
   "cell_type": "code",
   "execution_count": null,
   "id": "8e2cc2c2-b449-4acd-9eb6-62d570bd7a15",
   "metadata": {},
   "outputs": [],
   "source": []
  }
 ],
 "metadata": {
  "kernelspec": {
   "display_name": "Python 3 (ipykernel)",
   "language": "python",
   "name": "python3"
  },
  "language_info": {
   "codemirror_mode": {
    "name": "ipython",
    "version": 3
   },
   "file_extension": ".py",
   "mimetype": "text/x-python",
   "name": "python",
   "nbconvert_exporter": "python",
   "pygments_lexer": "ipython3",
   "version": "3.12.10"
  }
 },
 "nbformat": 4,
 "nbformat_minor": 5
}
